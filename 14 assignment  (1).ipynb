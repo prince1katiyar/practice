{
 "cells": [
  {
   "cell_type": "code",
   "execution_count": null,
   "id": "164c382f-2b39-46c7-8c05-62773b7fd481",
   "metadata": {},
   "outputs": [],
   "source": [
    "1. What does RGBA stand for?\n",
    "\n",
    " An RGBA value is a tuple of 4 integers, each ranging from 0 to 255.\n",
    "The four integers correspond to the amount of red, green, blue, and alpha (transparency) in the color."
   ]
  },
  {
   "cell_type": "code",
   "execution_count": null,
   "id": "8cca2b30-715d-40a9-8dbb-ab22d6374272",
   "metadata": {},
   "outputs": [],
   "source": [
    "2. From the Pillow module, how do you get the RGBA value of any images?\n",
    "\n",
    "\n",
    "ImageColor.getcolor('RED', 'RGBA')\n",
    "   (255, 0, 0, 255)"
   ]
  },
  {
   "cell_type": "code",
   "execution_count": null,
   "id": "fae2d470-14a5-4ccc-b26c-3b5e0f67a979",
   "metadata": {},
   "outputs": [],
   "source": [
    "3. What is a box tuple, and how does it work?\n",
    "\n",
    " A box tuple is a tuple value of four integers: the left-edge x-coordinate, the top-edge y-coordinate,\n",
    "    the width, and the height, respectively.\n",
    "    "
   ]
  },
  {
   "cell_type": "code",
   "execution_count": null,
   "id": "09cd2518-8278-4990-aee3-988531b484e9",
   "metadata": {},
   "outputs": [],
   "source": [
    "4. Use your image and load in notebook then, How can you find out the width and height of an\n",
    "Image object?\n",
    "\n",
    "\n",
    "import Image\n",
    "catIm = Image.open('zophie.png')\n"
   ]
  },
  {
   "cell_type": "code",
   "execution_count": null,
   "id": "3e0c07c1-a315-43bd-92e4-c64caedd2938",
   "metadata": {},
   "outputs": [],
   "source": [
    "5. What method would you call to get Image object for a 100×100 image, excluding the lower-left\n",
    "quarter of it?\n",
    "\n",
    "imageObj.size is a tuple of two integers, the width and the height.\n"
   ]
  },
  {
   "cell_type": "code",
   "execution_count": null,
   "id": "6961c82c-7413-4801-9c10-6584de8b3380",
   "metadata": {},
   "outputs": [],
   "source": [
    "6. After making changes to an Image object, how could you save it as an image file?\n",
    "\n",
    "Call the imageObj.save('new_filename.png') method of the Image object.\n"
   ]
  },
  {
   "cell_type": "code",
   "execution_count": null,
   "id": "4bc6118f-3b74-449d-88a7-84726d0fef49",
   "metadata": {},
   "outputs": [],
   "source": [
    "7. What module contains Pillow’s shape-drawing code?\n",
    "\n",
    "The   ImageDraw    module contains code to draw on images"
   ]
  },
  {
   "cell_type": "code",
   "execution_count": null,
   "id": "5babeb78-5081-4e20-af08-dcacc9c8a437",
   "metadata": {},
   "outputs": [],
   "source": [
    "8. Image objects do not have drawing methods. What kind of object does? How do you get this kind\n",
    "of object?\n"
   ]
  }
 ],
 "metadata": {
  "kernelspec": {
   "display_name": "Python 3 (ipykernel)",
   "language": "python",
   "name": "python3"
  },
  "language_info": {
   "codemirror_mode": {
    "name": "ipython",
    "version": 3
   },
   "file_extension": ".py",
   "mimetype": "text/x-python",
   "name": "python",
   "nbconvert_exporter": "python",
   "pygments_lexer": "ipython3",
   "version": "3.10.6"
  }
 },
 "nbformat": 4,
 "nbformat_minor": 5
}
